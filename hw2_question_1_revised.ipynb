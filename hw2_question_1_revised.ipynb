{
 "cells": [
  {
   "cell_type": "markdown",
   "id": "5f934b9c",
   "metadata": {},
   "source": [
    "# Computing for Business Research - Homework Assignment #2 \n",
    "\n",
    "Name: Sin Ting Cindy Yu\n",
    "\n",
    "UNI: sy3163\n",
    "\n",
    "## Question 1 ##"
   ]
  },
  {
   "cell_type": "markdown",
   "id": "06d7eb54",
   "metadata": {},
   "source": [
    "### Part 1"
   ]
  },
  {
   "cell_type": "code",
   "execution_count": 1,
   "id": "f9dd4933",
   "metadata": {},
   "outputs": [],
   "source": [
    "from bs4 import BeautifulSoup\n",
    "import requests\n",
    "from urllib.parse import urljoin"
   ]
  },
  {
   "cell_type": "code",
   "execution_count": 3,
   "id": "72624128",
   "metadata": {},
   "outputs": [
    {
     "name": "stderr",
     "output_type": "stream",
     "text": [
      "C:\\Users\\User\\anaconda3\\lib\\site-packages\\bs4\\builder\\__init__.py:545: XMLParsedAsHTMLWarning: It looks like you're parsing an XML document using an HTML parser. If this really is an HTML document (maybe it's XHTML?), you can ignore or filter this warning. If it's XML, you should know that using an XML parser will be more reliable. To parse this document as XML, make sure you have the lxml package installed, and pass the keyword argument `features=\"xml\"` into the BeautifulSoup constructor.\n",
      "  warnings.warn(\n"
     ]
    }
   ],
   "source": [
    "seed_url = \"https://press.un.org/en\"\n",
    "\n",
    "urls = [seed_url]\n",
    "seen = [seed_url]\n",
    "opened = []\n",
    "\n",
    "pr_list = []\n",
    "\n",
    "max_pr = 10\n",
    "\n",
    "while len(urls) > 0 and len(pr_list) < max_pr:\n",
    "    try:\n",
    "        curr_url = urls.pop(0)\n",
    "        response = requests.get(curr_url, headers={'User-Agent': 'Mozilla/5.0'})\n",
    "        webpage = response.content\n",
    "        opened.append(curr_url)\n",
    "        \n",
    "    except:\n",
    "        continue\n",
    "        \n",
    "    soup = BeautifulSoup(webpage)\n",
    "    check_pr = soup.find(\"a\", {\"href\":\"/en/press-release\", \"hreflang\":\"en\"}, text=\"Press Release\")\n",
    "    check_page = soup.find(\"h1\", text=\"Press Release\")\n",
    "    if check_pr is not None:\n",
    "        press_release = soup.find(class_=\"col-md-9 mb-2 panel-panel radix-layouts-main-column\").text\n",
    "        if \"crisis\".lower() in press_release.lower():\n",
    "            pr_list.append(curr_url)\n",
    "    elif (curr_url==seed_url) or (check_page is not None):\n",
    "        for tag in soup.find_all(\"a\", href = True):\n",
    "            childUrl = tag[\"href\"]\n",
    "            childUrl = urljoin(curr_url, childUrl)\n",
    "            if childUrl not in seen:\n",
    "                urls.append(childUrl)\n",
    "                seen.append(childUrl)"
   ]
  },
  {
   "cell_type": "code",
   "execution_count": 4,
   "id": "fd5c45b1",
   "metadata": {},
   "outputs": [
    {
     "data": {
      "text/plain": [
       "['https://press.un.org/en/2023/sgsm21996.doc.htm',\n",
       " 'https://press.un.org/en/2023/sgsm21994.doc.htm',\n",
       " 'https://press.un.org/en/2023/sgsm21993.doc.htm',\n",
       " 'https://press.un.org/en/2023/gapal1455.doc.htm',\n",
       " 'https://press.un.org/en/2023/sgsm21991.doc.htm',\n",
       " 'https://press.un.org/en/2023/sgsm21990.doc.htm',\n",
       " 'https://press.un.org/en/2023/sgsm21987.doc.htm',\n",
       " 'https://press.un.org/en/2023/sgsm21985.doc.htm',\n",
       " 'https://press.un.org/en/2023/sgsm21982.doc.htm',\n",
       " 'https://press.un.org/en/2023/sgsm21980.doc.htm']"
      ]
     },
     "execution_count": 4,
     "metadata": {},
     "output_type": "execute_result"
    }
   ],
   "source": [
    "pr_list"
   ]
  },
  {
   "cell_type": "markdown",
   "id": "e260f96b",
   "metadata": {},
   "source": [
    "### Part 2"
   ]
  },
  {
   "cell_type": "code",
   "execution_count": 4,
   "id": "cc630435",
   "metadata": {},
   "outputs": [
    {
     "name": "stdout",
     "output_type": "stream",
     "text": [
      "Requirement already satisfied: selenium in c:\\users\\user\\anaconda3\\lib\\site-packages (4.13.0)\n",
      "Requirement already satisfied: trio~=0.17 in c:\\users\\user\\anaconda3\\lib\\site-packages (from selenium) (0.22.2)\n",
      "Requirement already satisfied: trio-websocket~=0.9 in c:\\users\\user\\anaconda3\\lib\\site-packages (from selenium) (0.11.1)\n",
      "Requirement already satisfied: certifi>=2021.10.8 in c:\\users\\user\\anaconda3\\lib\\site-packages (from selenium) (2023.7.22)\n",
      "Requirement already satisfied: urllib3[socks]<3,>=1.26 in c:\\users\\user\\anaconda3\\lib\\site-packages (from selenium) (1.26.14)\n",
      "Requirement already satisfied: cffi>=1.14 in c:\\users\\user\\anaconda3\\lib\\site-packages (from trio~=0.17->selenium) (1.15.1)\n",
      "Requirement already satisfied: sniffio in c:\\users\\user\\anaconda3\\lib\\site-packages (from trio~=0.17->selenium) (1.2.0)\n",
      "Requirement already satisfied: outcome in c:\\users\\user\\anaconda3\\lib\\site-packages (from trio~=0.17->selenium) (1.2.0)\n",
      "Requirement already satisfied: attrs>=20.1.0 in c:\\users\\user\\anaconda3\\lib\\site-packages (from trio~=0.17->selenium) (22.1.0)\n",
      "Requirement already satisfied: idna in c:\\users\\user\\anaconda3\\lib\\site-packages (from trio~=0.17->selenium) (3.4)\n",
      "Requirement already satisfied: exceptiongroup>=1.0.0rc9 in c:\\users\\user\\anaconda3\\lib\\site-packages (from trio~=0.17->selenium) (1.1.3)\n",
      "Requirement already satisfied: sortedcontainers in c:\\users\\user\\anaconda3\\lib\\site-packages (from trio~=0.17->selenium) (2.4.0)\n",
      "Requirement already satisfied: wsproto>=0.14 in c:\\users\\user\\anaconda3\\lib\\site-packages (from trio-websocket~=0.9->selenium) (1.2.0)\n",
      "Requirement already satisfied: PySocks!=1.5.7,<2.0,>=1.5.6 in c:\\users\\user\\anaconda3\\lib\\site-packages (from urllib3[socks]<3,>=1.26->selenium) (1.7.1)\n",
      "Requirement already satisfied: pycparser in c:\\users\\user\\anaconda3\\lib\\site-packages (from cffi>=1.14->trio~=0.17->selenium) (2.21)\n",
      "Requirement already satisfied: h11<1,>=0.9.0 in c:\\users\\user\\anaconda3\\lib\\site-packages (from wsproto>=0.14->trio-websocket~=0.9->selenium) (0.14.0)\n"
     ]
    }
   ],
   "source": [
    "!pip install selenium"
   ]
  },
  {
   "cell_type": "code",
   "execution_count": 5,
   "id": "c026df61",
   "metadata": {},
   "outputs": [],
   "source": [
    "from selenium import webdriver\n",
    "import time"
   ]
  },
  {
   "cell_type": "code",
   "execution_count": 8,
   "id": "e0d93e50",
   "metadata": {},
   "outputs": [],
   "source": [
    "driver = webdriver.Chrome()\n",
    "seed_url = \"https://www.europarl.europa.eu/news/en/press-room\"\n",
    "\n",
    "urls = []\n",
    "seen = set()\n",
    "opened = []\n",
    "\n",
    "pr_list = []\n",
    "\n",
    "max_pr = 10\n",
    "\n",
    "driver.get(seed_url)\n",
    "main_page = driver.page_source\n",
    "main_soup = BeautifulSoup(main_page)\n",
    "for tag in main_soup.find_all(class_=\"ep_gridcolumn ep-m_product ep-layout_linkmode\"):\n",
    "    url = tag.find(\"a\")[\"href\"]\n",
    "    if url not in seen:\n",
    "        urls.append(url)\n",
    "        seen.add(url)\n",
    "\n",
    "while len(pr_list) < max_pr:\n",
    "    \n",
    "    if len(urls) > 0:\n",
    "    \n",
    "        try:\n",
    "            curr_url = urls.pop(0)\n",
    "            response = requests.get(curr_url, headers={'User-Agent': 'Mozilla/5.0'})\n",
    "            webpage = response.content\n",
    "            opened.append(curr_url)\n",
    "\n",
    "        except:\n",
    "            continue\n",
    "\n",
    "        soup = BeautifulSoup(webpage)\n",
    "        check_plenary = soup.find(\"span\", {\"class\":\"ep_name\"}, text=\"Plenary session\")\n",
    "        if check_plenary is not None:\n",
    "            heading = soup.find(\"h1\")\n",
    "            date = soup.find(class_=\"ep-p_text ep-layout_date\")\n",
    "            bullets = soup.find(class_=\"ep-a_facts\")\n",
    "            summary = soup.find(class_=\"ep-a_text ep-layout_chapo\")\n",
    "            content = soup.find_all(class_=\"ep-a_text\")[1]\n",
    "            pr = {}\n",
    "            if heading is not None:\n",
    "                pr['Heading'] = heading.text\n",
    "            if date is not None:\n",
    "                pr['Date'] = date.text\n",
    "            if bullets is not None:\n",
    "                pr['Bullets'] = bullets.text\n",
    "            if summary is not None:\n",
    "                pr['Summary'] = summary.text\n",
    "            if content is not None:\n",
    "                pr['Content'] = content.text\n",
    "            if any(\"crisis\".lower() in value.lower() for value in pr.values()):\n",
    "                pr_list.append(curr_url)\n",
    "    \n",
    "    elif (len(urls) == 0) and (main_soup.find(id=\"continuesLoading_button\") is not None):\n",
    "        \n",
    "        load_more = driver.find_element(\"id\", \"continuesLoading_button\")\n",
    "        driver.execute_script('arguments[0].click()', load_more)\n",
    "        time.sleep(5)\n",
    "        main_page = driver.page_source\n",
    "        main_soup = BeautifulSoup(main_page)\n",
    "        for tag in main_soup.find_all(class_=\"ep_gridcolumn ep-m_product ep-layout_linkmode\"):\n",
    "            url = tag.find(\"a\")[\"href\"]\n",
    "            if url not in seen:\n",
    "                urls.append(url)\n",
    "                seen.add(url)\n",
    "\n",
    "driver.quit()"
   ]
  },
  {
   "cell_type": "code",
   "execution_count": 9,
   "id": "0debe3fe",
   "metadata": {},
   "outputs": [
    {
     "data": {
      "text/plain": [
       "['https://www.europarl.europa.eu/news/en/press-room/20231013IPR07129/eu-budget-2024-addressing-next-year-s-challenges-through-mid-term-revision',\n",
       " 'https://www.europarl.europa.eu/news/en/press-room/20230929IPR06132/nagorno-karabakh-meps-demand-review-of-eu-relations-with-azerbaijan',\n",
       " 'https://www.europarl.europa.eu/news/en/press-room/20230929IPR06130/parliament-argues-for-a-top-up-to-multi-annual-budget-for-crisis-response',\n",
       " 'https://www.europarl.europa.eu/news/en/press-room/20230911IPR04923/reduce-demand-and-protect-people-in-prostitution-say-meps',\n",
       " 'https://www.europarl.europa.eu/news/en/press-room/20230911IPR04918/svietlana-tsikhanouskaya-to-meps-support-belarusians-european-aspirations',\n",
       " 'https://www.europarl.europa.eu/news/en/press-room/20230911IPR04908/meps-vote-to-strengthen-eu-defence-industry-through-common-procurement',\n",
       " 'https://www.europarl.europa.eu/news/en/press-room/20230707IPR02427/covid-19-parliament-adopts-roadmap-to-better-prepare-for-future-health-crises',\n",
       " 'https://www.europarl.europa.eu/news/en/press-room/20230707IPR02421/parliament-adopts-new-rules-to-boost-energy-savings',\n",
       " 'https://www.europarl.europa.eu/news/en/press-room/20230707IPR02418/semiconductors-meps-adopt-legislation-to-boost-eu-chips-industry',\n",
       " 'https://www.europarl.europa.eu/news/en/press-room/20230706IPR02317/ep-today']"
      ]
     },
     "execution_count": 9,
     "metadata": {},
     "output_type": "execute_result"
    }
   ],
   "source": [
    "pr_list"
   ]
  },
  {
   "cell_type": "code",
   "execution_count": null,
   "id": "8779a53a",
   "metadata": {},
   "outputs": [],
   "source": []
  }
 ],
 "metadata": {
  "kernelspec": {
   "display_name": "Python 3 (ipykernel)",
   "language": "python",
   "name": "python3"
  },
  "language_info": {
   "codemirror_mode": {
    "name": "ipython",
    "version": 3
   },
   "file_extension": ".py",
   "mimetype": "text/x-python",
   "name": "python",
   "nbconvert_exporter": "python",
   "pygments_lexer": "ipython3",
   "version": "3.10.9"
  }
 },
 "nbformat": 4,
 "nbformat_minor": 5
}
